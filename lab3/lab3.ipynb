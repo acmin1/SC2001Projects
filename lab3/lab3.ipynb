{
 "cells": [
  {
   "cell_type": "code",
   "execution_count": null,
   "metadata": {
    "vscode": {
     "languageId": "plaintext"
    }
   },
   "outputs": [],
   "source": []
  },
  {
   "cell_type": "markdown",
   "metadata": {},
   "source": [
    "# Question 3"
   ]
  },
  {
   "cell_type": "code",
   "execution_count": null,
   "metadata": {
    "vscode": {
     "languageId": "plaintext"
    }
   },
   "outputs": [],
   "source": [
    "def knapsack_unbounded(C, weights, profits):\n",
    "    # Initialize a DP array where dp[c] is the maximum profit for capacity 'c'\n",
    "    dp = [0] * (C + 1)\n",
    "    \n",
    "    # Loop through all capacities from 1 to C\n",
    "    for c in range(1, C + 1):\n",
    "        # For each capacity, check all items\n",
    "        for i in range(len(weights)):\n",
    "            # If the current item's weight is less than or equal to the capacity\n",
    "            if weights[i] <= c:\n",
    "                # Find the maximum of not taking the item or taking it (and reducing capacity)\n",
    "                dp[c] = max(dp[c], dp[c - weights[i]] + profits[i])\n",
    "    \n",
    "    # The last element in dp array will be the maximum profit for capacity C\n",
    "    return dp[C]\n",
    "\n",
    "# Example: n = 3, weights = [4, 6, 8], profits = [7, 6, 9], and C = 14\n",
    "weights = [4, 6, 8]\n",
    "profits = [7, 6, 9]\n",
    "C = 14\n",
    "\n",
    "# Call the function and print the result\n",
    "max_profit = knapsack_unbounded(C, weights, profits)\n",
    "print(f\"The maximum profit for capacity {C} is: {max_profit}\")\n"
   ]
  },
  {
   "cell_type": "markdown",
   "metadata": {},
   "source": [
    "### Time Complexity\n",
    "\n",
    "- The **outer loop** iterates over every possible knapsack capacity from 1 to `C`. This contributes to the time complexity of \\( O(C) \\).\n",
    "- The **inner loop** iterates over each of the `n` items for every capacity, checking if it can be added to the knapsack. This contributes to the time complexity of \\( O(n) \\).\n",
    "\n",
    "Thus, the total time complexity of the algorithm is:\n",
    "\n",
    "\\[\n",
    "O(C \\times n)\n",
    "\\]\n",
    "\n",
    "Where:\n",
    "- `C` is the capacity of the knapsack.\n",
    "- `n` is the number of different item types.\n",
    "\n",
    "### Space Complexity\n",
    "\n",
    "- We only use an array `dp[]` of size \\( C+1 \\), which stores the maximum profit for each capacity.\n",
    "\n",
    "Thus, the space complexity is:\n",
    "\n",
    "\\[\n",
    "O(C)\n",
    "\\]\n"
   ]
  },
  {
   "cell_type": "markdown",
   "metadata": {},
   "source": []
  },
  {
   "cell_type": "markdown",
   "metadata": {},
   "source": []
  },
  {
   "cell_type": "code",
   "execution_count": null,
   "metadata": {
    "vscode": {
     "languageId": "plaintext"
    }
   },
   "outputs": [],
   "source": []
  },
  {
   "cell_type": "markdown",
   "metadata": {},
   "source": []
  }
 ],
 "metadata": {
  "language_info": {
   "name": "python"
  }
 },
 "nbformat": 4,
 "nbformat_minor": 2
}

{
 "cells": [
  {
   "cell_type": "markdown",
   "metadata": {},
   "source": [
    "# Lab Project 2"
   ]
  },
  {
   "cell_type": "markdown",
   "metadata": {},
   "source": [
    "## a) Code"
   ]
  },
  {
   "cell_type": "code",
   "execution_count": 2,
   "metadata": {},
   "outputs": [],
   "source": [
    "import random\n",
    "\n",
    "def generate_random_graph(num_vertices, max_weight=10, sparsity=0.5):\n",
    "    \"\"\"Generates a random directed graph as an adjacency matrix.\n",
    "    \n",
    "    Args:\n",
    "        num_vertices (int): Number of vertices in the graph.\n",
    "        max_weight (int): Maximum weight for the edges.\n",
    "        sparsity (float): Probability of creating an edge between any two vertices.\n",
    "        \n",
    "    Returns:\n",
    "        list: Adjacency matrix representing the directed graph.\n",
    "    \"\"\"\n",
    "    graph = [[0 for _ in range(num_vertices)] for _ in range(num_vertices)]\n",
    "    \n",
    "    for i in range(num_vertices):\n",
    "        for j in range(num_vertices):\n",
    "            if i != j and random.random() < sparsity:  # Avoid self-loops and control edge creation\n",
    "                weight = random.randint(1, max_weight)  # Random weight between 1 and max_weight\n",
    "                graph[i][j] = weight\n",
    "\n",
    "    return graph\n",
    "\n"
   ]
  },
  {
   "cell_type": "code",
   "execution_count": 3,
   "metadata": {},
   "outputs": [],
   "source": [
    "class PriorityQueue:\n",
    "    def __init__(self):\n",
    "        self.queue = []\n",
    "\n",
    "    def is_empty(self):\n",
    "        return len(self.queue) == 0\n",
    "\n",
    "    def enqueue(self, item, priority):\n",
    "        \"\"\"Add an item to the priority queue with the given priority.\"\"\"\n",
    "        self.queue.append((priority, item))\n",
    "        self.queue.sort()  # Sort the queue by priority (ascending)\n",
    "\n",
    "    def dequeue(self):\n",
    "        \"\"\"Remove and return the item with the highest priority (lowest value).\"\"\"\n",
    "        if self.is_empty():\n",
    "            raise IndexError(\"dequeue from empty priority queue\")\n",
    "        return self.queue.pop(0)[1]  # Remove and return the item\n",
    "\n",
    "    def peek(self):\n",
    "        \"\"\"Return the item with the highest priority without removing it.\"\"\"\n",
    "        if self.is_empty():\n",
    "            raise IndexError(\"peek from empty priority queue\")\n",
    "        return self.queue[0][1]  # Return the item\n",
    "\n",
    "    def remove_item(self, item):\n",
    "        \"\"\"Remove the specified item from the priority queue.\"\"\"\n",
    "        for index, (priority, queue_item) in enumerate(self.queue):\n",
    "            if queue_item == item:\n",
    "                del self.queue[index]  # Remove the item by index\n",
    "                return  # Exit after removing the item\n",
    "        raise ValueError(f\"Item '{item}' not found in the priority queue.\")\n",
    "\n",
    "    def __str__(self):\n",
    "        return str(self.queue)"
   ]
  },
  {
   "cell_type": "code",
   "execution_count": 4,
   "metadata": {},
   "outputs": [],
   "source": [
    "import math\n",
    "import time\n",
    "\n",
    "def dijkstra(adjacency_matrix, source):\n",
    "    start_time = time.perf_counter()\n",
    "    n = len(adjacency_matrix)\n",
    "    \n",
    "    # Initialize distances, visited array, and predecessor array\n",
    "    distances = [math.inf] * n\n",
    "    visited = [False] * n\n",
    "    predecessors = [None] * n  # Predecessor array\n",
    "\n",
    "    distances[source] = 0    \n",
    "    # Initialize the priority queue\n",
    "    q = PriorityQueue()\n",
    "    #q.enqueue(source, 0)  #enqueue(self, item, priority):\n",
    "\n",
    "    for i in range(n):\n",
    "        q.enqueue(i, distances[i])\n",
    "\n",
    "    while q.is_empty()==False:\n",
    "        # Extract the vertex with the smallest distance\n",
    "        u = q.dequeue()\n",
    "\n",
    "        # Mark the vertex as visited\n",
    "        visited[u] = True\n",
    "\n",
    "        # Explore neighbors\n",
    "        for v in range(n):\n",
    "            weight = adjacency_matrix[u][v] # extracts the w[u,v]\n",
    "            if weight == 0:  # There is no edge\n",
    "                continue\n",
    "\n",
    "            if(visited[v]==False and distances[v] > weight+ distances[u]):\n",
    "                q.remove_item(v)\n",
    "                distances[v] = weight+ distances[u]\n",
    "                predecessors[v] = u\n",
    "                q.enqueue(v, distances[v])\n",
    "                \n",
    "    end_time = time.perf_counter()\n",
    "    #print(\"time: \"+ str((end_time - start_time)))\n",
    "    return distances, predecessors, (end_time - start_time)\n",
    "\n",
    "def reconstruct_path(predecessors, target):\n",
    "    \"\"\"Reconstruct the path from source to target using the predecessor array.\"\"\"\n",
    "    path = []\n",
    "    while target is not None:\n",
    "        path.append(target)\n",
    "        target = predecessors[target]\n",
    "    path.reverse()  # Reverse to get the path from source to target\n",
    "    return path\n"
   ]
  },
  {
   "cell_type": "code",
   "execution_count": 5,
   "metadata": {},
   "outputs": [
    {
     "name": "stdout",
     "output_type": "stream",
     "text": [
      "Distances from vertex 0: [0, 7, 13, 18, 20, 2]\n",
      "Execution time: 0.000032 seconds\n",
      "Shortest path from 0 to 4: [0, 1, 2, 3, 4]\n"
     ]
    }
   ],
   "source": [
    "\n",
    "graph = [\n",
    "        [0, 7, 0, 0, 0, 2],\n",
    "        [0, 0, 6, 0, 0, 1],\n",
    "        [0, 0, 0, 5, 0, 0],\n",
    "        [0, 0, 0, 0, 2, 0],\n",
    "        [0, 0, 0, 0, 0, 3],\n",
    "        [0, 0, 0, 0, 0, 0]\n",
    "    ]\n",
    "\n",
    "source_vertex = 0\n",
    "distances,predecessors, execution_time  = dijkstra(graph, source_vertex)\n",
    "print(f\"Distances from vertex {source_vertex}: {distances}\")\n",
    "print(f\"Execution time: {execution_time:.6f} seconds\")\n",
    "\n",
    "target_vertex = 4  # Example target\n",
    "path = reconstruct_path(predecessors, target_vertex)\n",
    "print(f\"Shortest path from {source_vertex} to {target_vertex}: {path}\")\n",
    "\n"
   ]
  },
  {
   "cell_type": "code",
   "execution_count": 7,
   "metadata": {},
   "outputs": [
    {
     "name": "stdout",
     "output_type": "stream",
     "text": [
      "Distances from vertex 0: [0, 9, 20, 8, 5, 7, 31, 1, 4, 18]\n",
      "Execution time: 0.000057 seconds\n",
      "Shortest path from 0 to 4: [0, 4]\n",
      "\n",
      "Distances from vertex 0: [0, 30, 12, inf, 25, 22, 50, 40, 24, 10]\n",
      "Execution time: 0.000060 seconds\n",
      "Shortest path from 0 to 4: [0, 9, 4]\n",
      "\n",
      "Distances from vertex 0: [0, 22, 12, 12, 7, 8, 2, 15, 5, 38]\n",
      "Execution time: 0.000062 seconds\n",
      "Shortest path from 0 to 4: [0, 4]\n",
      "\n",
      "Distances from vertex 0: [0, 43, 65, 72, 40, 57, 44, 41, 30, 41]\n",
      "Execution time: 0.000061 seconds\n",
      "Shortest path from 0 to 4: [0, 4]\n",
      "\n",
      "Distances from vertex 0: [0, 20, 21, 32, 9, 21, 1, 16, 10, 34]\n",
      "Execution time: 0.000057 seconds\n",
      "Shortest path from 0 to 4: [0, 6, 4]\n",
      "\n",
      "Distances from vertex 0: [0, 16, 22, 20, 28, 7, 11, 31, 23, 29]\n",
      "Execution time: 0.000056 seconds\n",
      "Shortest path from 0 to 4: [0, 6, 3, 2, 4]\n",
      "\n"
     ]
    }
   ],
   "source": [
    "def analyze_graphs(num_vertices, max_weight, num_graphs):\n",
    "    for i in range(num_graphs):\n",
    "        graph =  generate_random_graph(num_vertices, max_weight)\n",
    "        distances,predecessors, execution_time  = dijkstra(graph, 0)\n",
    "        print(f\"Distances from vertex {source_vertex}: {distances}\")\n",
    "        print(f\"Execution time: {execution_time:.6f} seconds\")\n",
    "        path = reconstruct_path(predecessors, target_vertex)\n",
    "        print(f\"Shortest path from {source_vertex} to {target_vertex}: {path}\\n\")\n",
    "\n",
    "\n",
    "analyze_graphs(10, 40, 6)"
   ]
  },
  {
   "cell_type": "markdown",
   "metadata": {},
   "source": [
    "### a) Theorectical & Empirical Analysis"
   ]
  },
  {
   "cell_type": "markdown",
   "metadata": {},
   "source": [
    "## b) Code"
   ]
  },
  {
   "cell_type": "markdown",
   "metadata": {},
   "source": [
    "### b) Theorectical & Empirical Analysis"
   ]
  },
  {
   "cell_type": "markdown",
   "metadata": {},
   "source": [
    "# c) Comparison"
   ]
  },
  {
   "cell_type": "markdown",
   "metadata": {},
   "source": []
  }
 ],
 "metadata": {
  "kernelspec": {
   "display_name": "Python 3",
   "language": "python",
   "name": "python3"
  },
  "language_info": {
   "codemirror_mode": {
    "name": "ipython",
    "version": 3
   },
   "file_extension": ".py",
   "mimetype": "text/x-python",
   "name": "python",
   "nbconvert_exporter": "python",
   "pygments_lexer": "ipython3",
   "version": "3.12.7"
  }
 },
 "nbformat": 4,
 "nbformat_minor": 2
}

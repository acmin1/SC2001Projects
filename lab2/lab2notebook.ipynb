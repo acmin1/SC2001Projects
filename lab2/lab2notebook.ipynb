{
 "cells": [
  {
   "cell_type": "markdown",
   "metadata": {},
   "source": [
    "# Lab Project 2"
   ]
  },
  {
   "cell_type": "markdown",
   "metadata": {},
   "source": [
    "## a) Code"
   ]
  },
  {
   "cell_type": "code",
   "execution_count": 12,
   "metadata": {},
   "outputs": [],
   "source": [
    "import random\n",
    "\n",
    "def generate_random_graph(num_vertices, max_weight=10, sparsity=0.5):\n",
    "    \"\"\"Generates a random directed graph as an adjacency matrix.\n",
    "    \n",
    "    Args:\n",
    "        num_vertices (int): Number of vertices in the graph.\n",
    "        max_weight (int): Maximum weight for the edges.\n",
    "        sparsity (float): Probability of creating an edge between any two vertices.\n",
    "        \n",
    "    Returns:\n",
    "        list: Adjacency matrix representing the directed graph.\n",
    "    \"\"\"\n",
    "    graph = [[0 for _ in range(num_vertices)] for _ in range(num_vertices)]\n",
    "    \n",
    "    for i in range(num_vertices):\n",
    "        for j in range(num_vertices):\n",
    "            if i != j and random.random() < sparsity:  # Avoid self-loops and control edge creation\n",
    "                weight = random.randint(1, max_weight)  # Random weight between 1 and max_weight\n",
    "                graph[i][j] = weight\n",
    "\n",
    "    return graph\n",
    "\n"
   ]
  },
  {
   "cell_type": "code",
   "execution_count": 13,
   "metadata": {},
   "outputs": [],
   "source": [
    "class PriorityQueue:\n",
    "    def __init__(self):\n",
    "        self.queue = []\n",
    "\n",
    "    def is_empty(self):\n",
    "        return len(self.queue) == 0\n",
    "\n",
    "    def enqueue(self, item, priority):\n",
    "        \"\"\"Add an item to the priority queue with the given priority.\"\"\"\n",
    "        self.queue.append((priority, item))\n",
    "        self.queue.sort()  # Sort the queue by priority (ascending)\n",
    "\n",
    "    def dequeue(self):\n",
    "        \"\"\"Remove and return the item with the highest priority (lowest value).\"\"\"\n",
    "        if self.is_empty():\n",
    "            raise IndexError(\"dequeue from empty priority queue\")\n",
    "        return self.queue.pop(0)[1]  # Remove and return the item\n",
    "\n",
    "    def peek(self):\n",
    "        \"\"\"Return the item with the highest priority without removing it.\"\"\"\n",
    "        if self.is_empty():\n",
    "            raise IndexError(\"peek from empty priority queue\")\n",
    "        return self.queue[0][1]  # Return the item\n",
    "\n",
    "    def remove_item(self, item):\n",
    "        \"\"\"Remove the specified item from the priority queue.\"\"\"\n",
    "        for index, (priority, queue_item) in enumerate(self.queue):\n",
    "            if queue_item == item:\n",
    "                del self.queue[index]  # Remove the item by index\n",
    "                return  # Exit after removing the item\n",
    "        raise ValueError(f\"Item '{item}' not found in the priority queue.\")\n",
    "\n",
    "    def __str__(self):\n",
    "        return str(self.queue)"
   ]
  },
  {
   "cell_type": "code",
   "execution_count": 14,
   "metadata": {},
   "outputs": [],
   "source": [
    "import math\n",
    "import time\n",
    "\n",
    "def dijkstra(adjacency_matrix, source):\n",
    "    start_time = time.perf_counter()\n",
    "    n = len(adjacency_matrix)\n",
    "    \n",
    "    # Initialize distances, visited array, and predecessor array\n",
    "    distances = [math.inf] * n\n",
    "    visited = [False] * n\n",
    "    predecessors = [None] * n  # Predecessor array\n",
    "\n",
    "    distances[source] = 0    \n",
    "    # Initialize the priority queue\n",
    "    q = PriorityQueue()\n",
    "    #q.enqueue(source, 0)  #enqueue(self, item, priority):\n",
    "\n",
    "    for i in range(n):\n",
    "        q.enqueue(i, distances[i])\n",
    "\n",
    "    while q.is_empty()==False:\n",
    "        # Extract the vertex with the smallest distance\n",
    "        u = q.dequeue()\n",
    "\n",
    "        # Mark the vertex as visited\n",
    "        visited[u] = True\n",
    "\n",
    "        # Explore neighbors\n",
    "        for v in range(n):\n",
    "            weight = adjacency_matrix[u][v] # extracts the w[u,v]\n",
    "            if weight == 0:  # There is no edge\n",
    "                continue\n",
    "\n",
    "            if(visited[v]==False and distances[v] > weight+ distances[u]):\n",
    "                q.remove_item(v)\n",
    "                distances[v] = weight+ distances[u]\n",
    "                predecessors[v] = u\n",
    "                q.enqueue(v, distances[v])\n",
    "                \n",
    "    end_time = time.perf_counter()\n",
    "    #print(\"time: \"+ str((end_time - start_time)))\n",
    "    return distances, predecessors, (end_time - start_time)\n",
    "\n",
    "def reconstruct_path(predecessors, target):\n",
    "    \"\"\"Reconstruct the path from source to target using the predecessor array.\"\"\"\n",
    "    path = []\n",
    "    while target is not None:\n",
    "        path.append(target)\n",
    "        target = predecessors[target]\n",
    "    path.reverse()  # Reverse to get the path from source to target\n",
    "    return path\n"
   ]
  },
  {
   "cell_type": "code",
   "execution_count": 15,
   "metadata": {},
   "outputs": [
    {
     "name": "stdout",
     "output_type": "stream",
     "text": [
      "Distances from vertex 0: [0, 7, 13, 18, 20, 2]\n",
      "Execution time: 0.000035 seconds\n",
      "Shortest path from 0 to 4: [0, 1, 2, 3, 4]\n"
     ]
    }
   ],
   "source": [
    "\n",
    "graph = [\n",
    "        [0, 7, 0, 0, 0, 2],\n",
    "        [0, 0, 6, 0, 0, 1],\n",
    "        [0, 0, 0, 5, 0, 0],\n",
    "        [0, 0, 0, 0, 2, 0],\n",
    "        [0, 0, 0, 0, 0, 3],\n",
    "        [0, 0, 0, 0, 0, 0]\n",
    "    ]\n",
    "\n",
    "source_vertex = 0\n",
    "distances,predecessors, execution_time  = dijkstra(graph, source_vertex)\n",
    "print(f\"Distances from vertex {source_vertex}: {distances}\")\n",
    "print(f\"Execution time: {execution_time:.6f} seconds\")\n",
    "\n",
    "target_vertex = 4  # Example target\n",
    "path = reconstruct_path(predecessors, target_vertex)\n",
    "print(f\"Shortest path from {source_vertex} to {target_vertex}: {path}\")\n",
    "\n"
   ]
  },
  {
   "cell_type": "code",
   "execution_count": 16,
   "metadata": {},
   "outputs": [
    {
     "name": "stdout",
     "output_type": "stream",
     "text": [
      "Distances from vertex 0: [0, 34, 55, 30, 13, 51, 21, 26, 9, 22]\n",
      "Execution time: 0.000031 seconds\n",
      "Shortest path from 0 to 4: [0, 4]\n",
      "\n",
      "Distances from vertex 0: [0, 21, 12, 25, 13, 28, 51, 7, 23, 9]\n",
      "Execution time: 0.000052 seconds\n",
      "Shortest path from 0 to 4: [0, 2, 4]\n",
      "\n",
      "Distances from vertex 0: [0, 21, 6, 16, 35, 14, 16, 37, 12, 19]\n",
      "Execution time: 0.000019 seconds\n",
      "Shortest path from 0 to 4: [0, 2, 8, 1, 4]\n",
      "\n",
      "Distances from vertex 0: [0, 15, 6, 2, 2, 4, 9, 2, 7, 9]\n",
      "Execution time: 0.000017 seconds\n",
      "Shortest path from 0 to 4: [0, 4]\n",
      "\n",
      "Distances from vertex 0: [0, 17, 13, 7, 13, 24, 19, 9, 15, 16]\n",
      "Execution time: 0.000059 seconds\n",
      "Shortest path from 0 to 4: [0, 7, 4]\n",
      "\n",
      "Distances from vertex 0: [0, 15, 9, 15, 9, 20, 6, 9, 18, 41]\n",
      "Execution time: 0.000018 seconds\n",
      "Shortest path from 0 to 4: [0, 4]\n",
      "\n"
     ]
    }
   ],
   "source": [
    "def analyze_graphs(num_vertices, max_weight, num_graphs):\n",
    "    for i in range(num_graphs):\n",
    "        graph =  generate_random_graph(num_vertices, max_weight)\n",
    "        distances,predecessors, execution_time  = dijkstra(graph, 0)\n",
    "        print(f\"Distances from vertex {source_vertex}: {distances}\")\n",
    "        print(f\"Execution time: {execution_time:.6f} seconds\")\n",
    "        path = reconstruct_path(predecessors, target_vertex)\n",
    "        print(f\"Shortest path from {source_vertex} to {target_vertex}: {path}\\n\")\n",
    "\n",
    "\n",
    "analyze_graphs(10, 40, 6)"
   ]
  },
  {
   "cell_type": "markdown",
   "metadata": {},
   "source": [
    "### a) Theorectical & Empirical Analysis"
   ]
  },
  {
   "cell_type": "markdown",
   "metadata": {},
   "source": [
    "## b) Code"
   ]
  },
  {
   "cell_type": "code",
   "execution_count": 17,
   "metadata": {},
   "outputs": [],
   "source": [
    "def generate_random_graph_adj_list(num_vertices, max_weight=10, sparsity=0.5):\n",
    "    \"\"\"Generates a random directed graph as an adjacency list.\"\"\"\n",
    "    adj_list = {i: [] for i in range(num_vertices)}\n",
    "    \n",
    "    for i in range(num_vertices):\n",
    "        for j in range(num_vertices):\n",
    "            if i != j and random.random() < sparsity:  # Avoid self-loops and control edge creation\n",
    "                weight = random.randint(1, max_weight)  # Random weight between 1 and max_weight\n",
    "                adj_list[i].append((j, weight))  # Add edge from i to j with the specified weight\n",
    "\n",
    "    return adj_list"
   ]
  },
  {
   "cell_type": "code",
   "execution_count": 18,
   "metadata": {},
   "outputs": [],
   "source": [
    "import heapq\n",
    "import time\n",
    "\n",
    "def dijkstra(adj_list, source):\n",
    "    num_vertices = len(adj_list)\n",
    "    dist = [float('inf')] * num_vertices\n",
    "    dist[source] = 0\n",
    "    pq = [(0, source)]  # Priority queue as min-heap (distance, vertex)\n",
    "    predecessors = [None] * num_vertices  # To store the shortest path tree\n",
    "    \n",
    "    start_time = time.time()\n",
    "    \n",
    "    while pq:\n",
    "        current_dist, u = heapq.heappop(pq)\n",
    "\n",
    "        # If this distance is not the smallest one, we skip\n",
    "        if current_dist > dist[u]:\n",
    "            continue\n",
    "\n",
    "        for v, weight in adj_list[u]:\n",
    "            if dist[u] + weight < dist[v]:\n",
    "                dist[v] = dist[u] + weight\n",
    "                predecessors[v] = u\n",
    "                heapq.heappush(pq, (dist[v], v))\n",
    "    \n",
    "    execution_time = time.time() - start_time\n",
    "    return dist, predecessors, execution_time\n",
    "\n",
    "def reconstruct_path(predecessors, target_vertex):\n",
    "    path = []\n",
    "    current = target_vertex\n",
    "    while current is not None:\n",
    "        path.append(current)\n",
    "        current = predecessors[current]\n",
    "    path.reverse()\n",
    "    return path\n"
   ]
  },
  {
   "cell_type": "code",
   "execution_count": 19,
   "metadata": {},
   "outputs": [
    {
     "name": "stdout",
     "output_type": "stream",
     "text": [
      "Distances from vertex 0: [0, 7, 13, 18, 20, 2]\n",
      "Execution time: 0.000008 seconds\n",
      "Shortest path from 0 to 4: [0, 1, 2, 3, 4]\n"
     ]
    }
   ],
   "source": [
    "graph_adj_list = {\n",
    "    0: [(1, 7), (5, 2)],\n",
    "    1: [(2, 6), (5, 1)],\n",
    "    2: [(3, 5)],\n",
    "    3: [(4, 2)],\n",
    "    4: [(5, 3)],\n",
    "    5: []\n",
    "}\n",
    "\n",
    "source_vertex = 0\n",
    "target_vertex = 4\n",
    "\n",
    "# Run Dijkstra\n",
    "distances, predecessors, execution_time = dijkstra(graph_adj_list, source_vertex)\n",
    "\n",
    "# Print distances and execution time\n",
    "print(f\"Distances from vertex {source_vertex}: {distances}\")\n",
    "print(f\"Execution time: {execution_time:.6f} seconds\")\n",
    "\n",
    "# Reconstruct and print the path from source to target\n",
    "path = reconstruct_path(predecessors, target_vertex)\n",
    "print(f\"Shortest path from {source_vertex} to {target_vertex}: {path}\")"
   ]
  },
  {
   "cell_type": "code",
   "execution_count": 20,
   "metadata": {},
   "outputs": [
    {
     "name": "stdout",
     "output_type": "stream",
     "text": [
      "Graph 1:\n",
      "Distances from vertex 0: [0, 26, 11, 11, 40, 31, 7, 23, 29, 26]\n",
      "Execution time: 0.000007 seconds\n",
      "Shortest path from 0 to 4: [0, 6, 3, 1, 4]\n",
      "\n",
      "Graph 2:\n",
      "Distances from vertex 0: [0, 24, 18, 19, 30, 38, 30, 41, 24, 20]\n",
      "Execution time: 0.000005 seconds\n",
      "Shortest path from 0 to 4: [0, 2, 4]\n",
      "\n",
      "Graph 3:\n",
      "Distances from vertex 0: [0, 34, 30, 37, 44, 28, 23, 6, 26, 33]\n",
      "Execution time: 0.000005 seconds\n",
      "Shortest path from 0 to 4: [0, 7, 5, 4]\n",
      "\n",
      "Graph 4:\n",
      "Distances from vertex 0: [0, 31, 34, 18, 35, 14, 21, 31, 28, 12]\n",
      "Execution time: 0.000005 seconds\n",
      "Shortest path from 0 to 4: [0, 9, 1, 4]\n",
      "\n",
      "Graph 5:\n",
      "Distances from vertex 0: [0, 46, 28, 30, 20, 28, 34, 20, 63, 65]\n",
      "Execution time: 0.000004 seconds\n",
      "Shortest path from 0 to 4: [0, 4]\n",
      "\n",
      "Graph 6:\n",
      "Distances from vertex 0: [0, 18, 10, 18, 34, 7, 21, 12, 5, 16]\n",
      "Execution time: 0.000004 seconds\n",
      "Shortest path from 0 to 4: [0, 5, 4]\n",
      "\n"
     ]
    }
   ],
   "source": [
    "def analyze_graphs(num_vertices, max_weight, num_graphs):\n",
    "    for i in range(num_graphs):\n",
    "        graph_adj_list = generate_random_graph_adj_list(num_vertices, max_weight)\n",
    "        distances, predecessors, execution_time = dijkstra(graph_adj_list, 0)\n",
    "        print(f\"Graph {i + 1}:\")\n",
    "        print(f\"Distances from vertex 0: {distances}\")\n",
    "        print(f\"Execution time: {execution_time:.6f} seconds\")\n",
    "        path = reconstruct_path(predecessors, target_vertex)\n",
    "        print(f\"Shortest path from 0 to {target_vertex}: {path}\\n\")\n",
    "\n",
    "# Analyze random graphs with 10 vertices, max weight of 40, and 6 different graphs\n",
    "analyze_graphs(10, 40, 6)"
   ]
  },
  {
   "cell_type": "markdown",
   "metadata": {},
   "source": [
    "### b) Theorectical & Empirical Analysis"
   ]
  },
  {
   "cell_type": "markdown",
   "metadata": {},
   "source": [
    "# c) Comparison"
   ]
  },
  {
   "cell_type": "markdown",
   "metadata": {},
   "source": []
  }
 ],
 "metadata": {
  "kernelspec": {
   "display_name": "Python 3",
   "language": "python",
   "name": "python3"
  },
  "language_info": {
   "codemirror_mode": {
    "name": "ipython",
    "version": 3
   },
   "file_extension": ".py",
   "mimetype": "text/x-python",
   "name": "python",
   "nbconvert_exporter": "python",
   "pygments_lexer": "ipython3",
   "version": "3.11.4"
  }
 },
 "nbformat": 4,
 "nbformat_minor": 2
}
